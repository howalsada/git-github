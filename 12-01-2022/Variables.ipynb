{
 "cells": [
  {
   "cell_type": "code",
   "execution_count": null,
   "id": "ab32b7f4",
   "metadata": {},
   "outputs": [],
   "source": [
    "It is used to store data/value."
   ]
  },
  {
   "cell_type": "markdown",
   "id": "d38460b5",
   "metadata": {},
   "source": [
    "## Types of Variables"
   ]
  },
  {
   "cell_type": "code",
   "execution_count": null,
   "id": "52afe2fc",
   "metadata": {},
   "outputs": [],
   "source": [
    "1. Local Variable\n",
    "2. Global Variable"
   ]
  },
  {
   "cell_type": "raw",
   "id": "c978c803",
   "metadata": {},
   "source": [
    "Local Variable > Those are declared inside a function / method\n",
    "It can accessible only inside the function / local block."
   ]
  },
  {
   "cell_type": "raw",
   "id": "468d1950",
   "metadata": {},
   "source": [
    "Global Variable > Those declared outside the function / method\n",
    "It can be accessible to whole program. "
   ]
  },
  {
   "cell_type": "code",
   "execution_count": 1,
   "id": "37d089fc",
   "metadata": {},
   "outputs": [
    {
     "name": "stdout",
     "output_type": "stream",
     "text": [
      "20\n"
     ]
    }
   ],
   "source": [
    "def my_fun():\n",
    "    x = 20\n",
    "    print(x)  # x is local variable\n",
    "    \n",
    "my_fun()"
   ]
  },
  {
   "cell_type": "code",
   "execution_count": 3,
   "id": "85fa294f",
   "metadata": {},
   "outputs": [
    {
     "name": "stdout",
     "output_type": "stream",
     "text": [
      "We are in my_fun and value of x is  20\n"
     ]
    },
    {
     "ename": "NameError",
     "evalue": "name 'x' is not defined",
     "output_type": "error",
     "traceback": [
      "\u001b[1;31m---------------------------------------------------------------------------\u001b[0m",
      "\u001b[1;31mNameError\u001b[0m                                 Traceback (most recent call last)",
      "\u001b[1;32m<ipython-input-3-922fcf433a6a>\u001b[0m in \u001b[0;36m<module>\u001b[1;34m\u001b[0m\n\u001b[0;32m      5\u001b[0m \u001b[0mmy_fun\u001b[0m\u001b[1;33m(\u001b[0m\u001b[1;33m)\u001b[0m\u001b[1;33m\u001b[0m\u001b[1;33m\u001b[0m\u001b[0m\n\u001b[0;32m      6\u001b[0m \u001b[0my\u001b[0m \u001b[1;33m=\u001b[0m \u001b[1;36m30\u001b[0m\u001b[1;33m\u001b[0m\u001b[1;33m\u001b[0m\u001b[0m\n\u001b[1;32m----> 7\u001b[1;33m \u001b[0mprint\u001b[0m\u001b[1;33m(\u001b[0m\u001b[0mx\u001b[0m\u001b[1;33m)\u001b[0m\u001b[1;33m\u001b[0m\u001b[1;33m\u001b[0m\u001b[0m\n\u001b[0m",
      "\u001b[1;31mNameError\u001b[0m: name 'x' is not defined"
     ]
    }
   ],
   "source": [
    "def my_fun():\n",
    "    x = 20\n",
    "    print('We are in my_fun and value of x is ', x)  # x is local variable\n",
    "    \n",
    "my_fun()\n",
    "y = 30\n",
    "print(x)\n"
   ]
  },
  {
   "cell_type": "code",
   "execution_count": 4,
   "id": "a6ae672d",
   "metadata": {},
   "outputs": [
    {
     "name": "stdout",
     "output_type": "stream",
     "text": [
      "We are in my_fun and value of x is  20\n",
      "30\n"
     ]
    }
   ],
   "source": [
    "def my_fun():\n",
    "    x = 20\n",
    "    print('We are in my_fun and value of x is ', x)  # x is local variable\n",
    "    \n",
    "my_fun()\n",
    "y = 30\n",
    "print(y)\n"
   ]
  },
  {
   "cell_type": "markdown",
   "id": "0dca5e05",
   "metadata": {},
   "source": [
    "### Value assignemnt to variables"
   ]
  },
  {
   "cell_type": "code",
   "execution_count": 6,
   "id": "6a85a92c",
   "metadata": {},
   "outputs": [
    {
     "name": "stdout",
     "output_type": "stream",
     "text": [
      "100 <class 'int'>\n"
     ]
    }
   ],
   "source": [
    "a = 100  # dynamically typed\n",
    "print(a, type(a))"
   ]
  },
  {
   "cell_type": "code",
   "execution_count": 7,
   "id": "48cdc975",
   "metadata": {},
   "outputs": [
    {
     "name": "stdout",
     "output_type": "stream",
     "text": [
      "200 <class 'int'>\n"
     ]
    }
   ],
   "source": [
    "a = 200\n",
    "print(a, type(a))"
   ]
  },
  {
   "cell_type": "code",
   "execution_count": 8,
   "id": "ac277bb6",
   "metadata": {},
   "outputs": [
    {
     "name": "stdout",
     "output_type": "stream",
     "text": [
      "300 <class 'int'>\n"
     ]
    }
   ],
   "source": [
    "a = 300\n",
    "print(a, type(a))"
   ]
  },
  {
   "cell_type": "code",
   "execution_count": 10,
   "id": "b9ffc844",
   "metadata": {},
   "outputs": [
    {
     "name": "stdout",
     "output_type": "stream",
     "text": [
      "python <class 'str'>\n"
     ]
    }
   ],
   "source": [
    "a = 'python'\n",
    "print(a,type(a))"
   ]
  },
  {
   "cell_type": "code",
   "execution_count": 11,
   "id": "eb6f77e1",
   "metadata": {},
   "outputs": [
    {
     "name": "stdout",
     "output_type": "stream",
     "text": [
      "python <class 'str'>\n"
     ]
    }
   ],
   "source": [
    "b = a\n",
    "print(b, type(b))"
   ]
  },
  {
   "cell_type": "markdown",
   "id": "93e7447b",
   "metadata": {},
   "source": [
    "## Single value assignment to Multiple Variables"
   ]
  },
  {
   "cell_type": "code",
   "execution_count": 12,
   "id": "2a5c58db",
   "metadata": {},
   "outputs": [
    {
     "name": "stdout",
     "output_type": "stream",
     "text": [
      "x == 100, y == 100, z == 100\n"
     ]
    }
   ],
   "source": [
    "x = 100\n",
    "y = 100\n",
    "z = 100\n",
    "\n",
    "print(f'x == {x}, y == {y}, z == {z}')"
   ]
  },
  {
   "cell_type": "code",
   "execution_count": 13,
   "id": "4a84f28a",
   "metadata": {},
   "outputs": [
    {
     "name": "stdout",
     "output_type": "stream",
     "text": [
      "x == 100, y == 100, z == 100\n"
     ]
    }
   ],
   "source": [
    "x = y = z = 100\n",
    "print(f'x == {x}, y == {y}, z == {z}')"
   ]
  },
  {
   "cell_type": "code",
   "execution_count": 14,
   "id": "c9e24b37",
   "metadata": {},
   "outputs": [
    {
     "name": "stdout",
     "output_type": "stream",
     "text": [
      "x == python, y == python, z == python\n"
     ]
    }
   ],
   "source": [
    "x = y = z = 'python'\n",
    "print(f'x == {x}, y == {y}, z == {z}')"
   ]
  },
  {
   "cell_type": "markdown",
   "id": "99d9c9e2",
   "metadata": {},
   "source": [
    "## Multiple value assignement to Multiple variables"
   ]
  },
  {
   "cell_type": "code",
   "execution_count": 15,
   "id": "bbb87873",
   "metadata": {},
   "outputs": [
    {
     "name": "stdout",
     "output_type": "stream",
     "text": [
      "x == 100, y == 20.2, z == python\n"
     ]
    }
   ],
   "source": [
    "x = 100\n",
    "y = 20.20\n",
    "z = 'python'\n",
    "\n",
    "print(f'x == {x}, y == {y}, z == {z}')"
   ]
  },
  {
   "cell_type": "code",
   "execution_count": 16,
   "id": "3f6f29ea",
   "metadata": {},
   "outputs": [
    {
     "name": "stdout",
     "output_type": "stream",
     "text": [
      "x == 100, y == 20.2, z == python\n"
     ]
    }
   ],
   "source": [
    "x = 100 ; y = 20.20; z = 'python'\n",
    "\n",
    "print(f'x == {x}, y == {y}, z == {z}')"
   ]
  },
  {
   "cell_type": "code",
   "execution_count": 17,
   "id": "c8958940",
   "metadata": {},
   "outputs": [
    {
     "name": "stdout",
     "output_type": "stream",
     "text": [
      "10 20.2 python\n"
     ]
    }
   ],
   "source": [
    "x , y, z = 10, 20.20, 'python'\n",
    "print(x, y, z)"
   ]
  },
  {
   "cell_type": "markdown",
   "id": "39f9f7f0",
   "metadata": {},
   "source": [
    "## Delete the variable"
   ]
  },
  {
   "cell_type": "raw",
   "id": "2f0420d2",
   "metadata": {},
   "source": [
    "del Keyword \n",
    "--used to delete the variable from your program / memory\n",
    "\n",
    "Syntax : \n",
    "\n",
    "del variable_name"
   ]
  },
  {
   "cell_type": "code",
   "execution_count": 18,
   "id": "7d46dc6e",
   "metadata": {},
   "outputs": [
    {
     "name": "stdout",
     "output_type": "stream",
     "text": [
      "10\n"
     ]
    }
   ],
   "source": [
    "a = 10\n",
    "b = 20 \n",
    "\n",
    "print(a)"
   ]
  },
  {
   "cell_type": "code",
   "execution_count": 19,
   "id": "e277e043",
   "metadata": {},
   "outputs": [
    {
     "ename": "NameError",
     "evalue": "name 'a' is not defined",
     "output_type": "error",
     "traceback": [
      "\u001b[1;31m---------------------------------------------------------------------------\u001b[0m",
      "\u001b[1;31mNameError\u001b[0m                                 Traceback (most recent call last)",
      "\u001b[1;32m<ipython-input-19-fdccb040911d>\u001b[0m in \u001b[0;36m<module>\u001b[1;34m\u001b[0m\n\u001b[0;32m      5\u001b[0m \u001b[1;32mdel\u001b[0m \u001b[0ma\u001b[0m\u001b[1;33m\u001b[0m\u001b[1;33m\u001b[0m\u001b[0m\n\u001b[0;32m      6\u001b[0m \u001b[1;33m\u001b[0m\u001b[0m\n\u001b[1;32m----> 7\u001b[1;33m \u001b[0mprint\u001b[0m\u001b[1;33m(\u001b[0m\u001b[0ma\u001b[0m\u001b[1;33m)\u001b[0m\u001b[1;33m\u001b[0m\u001b[1;33m\u001b[0m\u001b[0m\n\u001b[0m",
      "\u001b[1;31mNameError\u001b[0m: name 'a' is not defined"
     ]
    }
   ],
   "source": [
    "a = 10\n",
    "\n",
    "b = 20 \n",
    "\n",
    "del a\n",
    "\n",
    "print(a)"
   ]
  },
  {
   "cell_type": "code",
   "execution_count": 21,
   "id": "e22fadf2",
   "metadata": {},
   "outputs": [
    {
     "name": "stdout",
     "output_type": "stream",
     "text": [
      "20\n"
     ]
    }
   ],
   "source": [
    "a = 10\n",
    "\n",
    "b = 20 \n",
    "\n",
    "del a, b\n",
    "\n",
    "b = 20\n",
    "\n",
    "\n",
    "print(b)"
   ]
  },
  {
   "cell_type": "code",
   "execution_count": 22,
   "id": "cf5cc3c4",
   "metadata": {},
   "outputs": [
    {
     "ename": "NameError",
     "evalue": "name 'b' is not defined",
     "output_type": "error",
     "traceback": [
      "\u001b[1;31m---------------------------------------------------------------------------\u001b[0m",
      "\u001b[1;31mNameError\u001b[0m                                 Traceback (most recent call last)",
      "\u001b[1;32m<ipython-input-22-6b77e76a9403>\u001b[0m in \u001b[0;36m<module>\u001b[1;34m\u001b[0m\n\u001b[0;32m      9\u001b[0m \u001b[1;32mdel\u001b[0m \u001b[0mb\u001b[0m\u001b[1;33m\u001b[0m\u001b[1;33m\u001b[0m\u001b[0m\n\u001b[0;32m     10\u001b[0m \u001b[1;33m\u001b[0m\u001b[0m\n\u001b[1;32m---> 11\u001b[1;33m \u001b[0mprint\u001b[0m\u001b[1;33m(\u001b[0m\u001b[0mb\u001b[0m\u001b[1;33m)\u001b[0m\u001b[1;33m\u001b[0m\u001b[1;33m\u001b[0m\u001b[0m\n\u001b[0m",
      "\u001b[1;31mNameError\u001b[0m: name 'b' is not defined"
     ]
    }
   ],
   "source": [
    "a = 10\n",
    "\n",
    "b = 20 \n",
    "\n",
    "del a, b\n",
    "\n",
    "b = 20\n",
    "\n",
    "del b\n",
    "\n",
    "print(b)"
   ]
  },
  {
   "cell_type": "code",
   "execution_count": null,
   "id": "27e42983",
   "metadata": {},
   "outputs": [],
   "source": [
    "Literals \n",
    "\n",
    "----Simple variable assignment\n",
    "----literals are derived from literally word\n",
    "\n",
    "numeric literal \n",
    "\n",
    "a = 50 \n",
    "50\n",
    "'string'\n",
    "10.34\n",
    "'c'"
   ]
  }
 ],
 "metadata": {
  "kernelspec": {
   "display_name": "Python 3",
   "language": "python",
   "name": "python3"
  },
  "language_info": {
   "codemirror_mode": {
    "name": "ipython",
    "version": 3
   },
   "file_extension": ".py",
   "mimetype": "text/x-python",
   "name": "python",
   "nbconvert_exporter": "python",
   "pygments_lexer": "ipython3",
   "version": "3.8.8"
  }
 },
 "nbformat": 4,
 "nbformat_minor": 5
}
