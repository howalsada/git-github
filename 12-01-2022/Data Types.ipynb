{
 "cells": [
  {
   "cell_type": "code",
   "execution_count": null,
   "id": "78dcbf7e",
   "metadata": {},
   "outputs": [],
   "source": [
    "Python is dynamically typed Language"
   ]
  },
  {
   "cell_type": "markdown",
   "id": "365d08fd",
   "metadata": {},
   "source": [
    "### Types of Datatypes in Python "
   ]
  },
  {
   "cell_type": "code",
   "execution_count": null,
   "id": "814ae86d",
   "metadata": {},
   "outputs": [],
   "source": [
    "1. Numerical : int, float, complex \n",
    "\n",
    "2. Text: str\n",
    "\n",
    "3. Sequence: list, tuple, range\n",
    "    \n",
    "4. Mapping: dict # key, value\n",
    "\n",
    "5. Set Types: set , frozenset\n",
    "    \n",
    "6. Boolean types: True, False\n",
    "    \n",
    "7. Binary: bytes , bytearray"
   ]
  },
  {
   "cell_type": "markdown",
   "id": "c2e8541d",
   "metadata": {},
   "source": [
    "### int Data types"
   ]
  },
  {
   "cell_type": "raw",
   "id": "a5858f3c",
   "metadata": {},
   "source": [
    "whole decimal number \n",
    "+ve or -ve"
   ]
  },
  {
   "cell_type": "code",
   "execution_count": 1,
   "id": "0023945b",
   "metadata": {},
   "outputs": [
    {
     "name": "stdout",
     "output_type": "stream",
     "text": [
      "<class 'int'>\n"
     ]
    }
   ],
   "source": [
    "a = 20 \n",
    "\n",
    "print(type(a))"
   ]
  },
  {
   "cell_type": "code",
   "execution_count": 2,
   "id": "9bfe97c8",
   "metadata": {},
   "outputs": [
    {
     "name": "stdout",
     "output_type": "stream",
     "text": [
      "<class 'int'>\n"
     ]
    }
   ],
   "source": [
    "a = -20\n",
    "\n",
    "print(type(a))"
   ]
  },
  {
   "cell_type": "markdown",
   "id": "092b7722",
   "metadata": {},
   "source": [
    " ### Float Data type"
   ]
  },
  {
   "cell_type": "code",
   "execution_count": 3,
   "id": "54de88b4",
   "metadata": {},
   "outputs": [
    {
     "name": "stdout",
     "output_type": "stream",
     "text": [
      "value of x is 12.34 and type of x is <class 'float'>\n"
     ]
    }
   ],
   "source": [
    "x = 12.34\n",
    "print(f'value of x is {x} and type of x is {type(x)}')"
   ]
  },
  {
   "cell_type": "code",
   "execution_count": 4,
   "id": "83e0efb3",
   "metadata": {},
   "outputs": [
    {
     "name": "stdout",
     "output_type": "stream",
     "text": [
      "value of x is 12000.0 and type of x is <class 'float'>\n"
     ]
    }
   ],
   "source": [
    "x = 12e3\n",
    "print(f'value of x is {x} and type of x is {type(x)}')"
   ]
  },
  {
   "cell_type": "code",
   "execution_count": 5,
   "id": "e66479d9",
   "metadata": {},
   "outputs": [
    {
     "name": "stdout",
     "output_type": "stream",
     "text": [
      "value of x is 0.012 and type of x is <class 'float'>\n"
     ]
    }
   ],
   "source": [
    "x = 12e-3  # 12/1000\n",
    "print(f'value of x is {x} and type of x is {type(x)}')"
   ]
  },
  {
   "cell_type": "code",
   "execution_count": 7,
   "id": "4d836fad",
   "metadata": {},
   "outputs": [
    {
     "data": {
      "text/plain": [
       "12.35"
      ]
     },
     "execution_count": 7,
     "metadata": {},
     "output_type": "execute_result"
    }
   ],
   "source": [
    "a = 12.3455678\n",
    "\n",
    "round(a,2)"
   ]
  },
  {
   "cell_type": "markdown",
   "id": "dfc35f5d",
   "metadata": {},
   "source": [
    "### Complex Datatype"
   ]
  },
  {
   "cell_type": "raw",
   "id": "9ea76549",
   "metadata": {},
   "source": [
    "Contains real no and imaginary part \n",
    "e.g 10 + 34j"
   ]
  },
  {
   "cell_type": "code",
   "execution_count": 8,
   "id": "d0346ffd",
   "metadata": {},
   "outputs": [
    {
     "name": "stdout",
     "output_type": "stream",
     "text": [
      "value of x is (10+20j) and type of x is <class 'complex'>\n"
     ]
    }
   ],
   "source": [
    "x = 10 + 20j \n",
    "\n",
    "print(f'value of x is {x} and type of x is {type(x)}')"
   ]
  },
  {
   "cell_type": "markdown",
   "id": "d44a6a8e",
   "metadata": {},
   "source": [
    "## Pyhton Datatype Casting"
   ]
  },
  {
   "cell_type": "raw",
   "id": "716c34cb",
   "metadata": {},
   "source": [
    "int --> float\n",
    "float ---> int\n",
    "int --> complex \n",
    "float ---> complex \n",
    "int <---> string  # should consist only number\n",
    "float <---> string # should consist only number and dot\n",
    "\n",
    "You can not convert\n",
    "complex ---> int\n",
    "complex ---> float"
   ]
  },
  {
   "cell_type": "markdown",
   "id": "f9d08b09",
   "metadata": {},
   "source": [
    "#### int to float"
   ]
  },
  {
   "cell_type": "code",
   "execution_count": 10,
   "id": "32447883",
   "metadata": {},
   "outputs": [
    {
     "name": "stdout",
     "output_type": "stream",
     "text": [
      "value of a is 25 and type is <class 'int'>\n",
      "value of a is 25.0 and type is <class 'float'>\n"
     ]
    }
   ],
   "source": [
    "a = 25\n",
    "\n",
    "print(f'value of a is {a} and type is {type(a)}')\n",
    "\n",
    "a = float(a)\n",
    "\n",
    "print(f'value of a is {a} and type is {type(a)}')\n"
   ]
  },
  {
   "cell_type": "code",
   "execution_count": 11,
   "id": "248ef1cc",
   "metadata": {},
   "outputs": [
    {
     "name": "stdout",
     "output_type": "stream",
     "text": [
      "value of a is -25 and type is <class 'int'>\n",
      "value of a is -25.0 and type is <class 'float'>\n"
     ]
    }
   ],
   "source": [
    "a = -25\n",
    "\n",
    "print(f'value of a is {a} and type is {type(a)}')\n",
    "\n",
    "a = float(a)\n",
    "\n",
    "print(f'value of a is {a} and type is {type(a)}')\n"
   ]
  },
  {
   "cell_type": "markdown",
   "id": "a565d383",
   "metadata": {},
   "source": [
    "#### float to int "
   ]
  },
  {
   "cell_type": "code",
   "execution_count": 12,
   "id": "80ab5fd1",
   "metadata": {},
   "outputs": [
    {
     "name": "stdout",
     "output_type": "stream",
     "text": [
      "value of a is 25.3 and type is <class 'float'>\n",
      "value of a is 25 and type is <class 'int'>\n"
     ]
    }
   ],
   "source": [
    "a = 25.30 \n",
    "\n",
    "print(f'value of a is {a} and type is {type(a)}')\n",
    "\n",
    "a = int(a)\n",
    "\n",
    "print(f'value of a is {a} and type is {type(a)}')\n"
   ]
  },
  {
   "cell_type": "markdown",
   "id": "5a00729d",
   "metadata": {},
   "source": [
    "### int to complex "
   ]
  },
  {
   "cell_type": "code",
   "execution_count": 14,
   "id": "a82341f7",
   "metadata": {},
   "outputs": [
    {
     "name": "stdout",
     "output_type": "stream",
     "text": [
      "value of a is 50 and <class 'int'>\n",
      "value of a is (50+0j) and <class 'complex'>\n"
     ]
    }
   ],
   "source": [
    "a = 50 \n",
    "\n",
    "print(f'value of a is {a} and {type(a)}')\n",
    "\n",
    "a = complex(a)\n",
    "\n",
    "print(f'value of a is {a} and {type(a)}')"
   ]
  },
  {
   "cell_type": "code",
   "execution_count": 15,
   "id": "28d62d9f",
   "metadata": {},
   "outputs": [
    {
     "name": "stdout",
     "output_type": "stream",
     "text": [
      "value of a is -50 and <class 'int'>\n",
      "value of a is (-50+0j) and <class 'complex'>\n"
     ]
    }
   ],
   "source": [
    "a = -50 \n",
    "\n",
    "print(f'value of a is {a} and {type(a)}')\n",
    "\n",
    "a = complex(a)\n",
    "\n",
    "print(f'value of a is {a} and {type(a)}')"
   ]
  },
  {
   "cell_type": "markdown",
   "id": "21bedb25",
   "metadata": {},
   "source": [
    "### float to complex "
   ]
  },
  {
   "cell_type": "code",
   "execution_count": 16,
   "id": "a6a39429",
   "metadata": {},
   "outputs": [
    {
     "name": "stdout",
     "output_type": "stream",
     "text": [
      "value of a is 50.45 and <class 'float'>\n",
      "value of a is (50.45+0j) and <class 'complex'>\n"
     ]
    }
   ],
   "source": [
    "a = 50.45\n",
    "\n",
    "print(f'value of a is {a} and {type(a)}')\n",
    "\n",
    "a = complex(a)\n",
    "\n",
    "print(f'value of a is {a} and {type(a)}')"
   ]
  },
  {
   "cell_type": "code",
   "execution_count": 17,
   "id": "0ebd0290",
   "metadata": {},
   "outputs": [
    {
     "name": "stdout",
     "output_type": "stream",
     "text": [
      "value of a is -50.45 and <class 'float'>\n",
      "value of a is (-50.45+0j) and <class 'complex'>\n"
     ]
    }
   ],
   "source": [
    "a = -50.45\n",
    "\n",
    "print(f'value of a is {a} and {type(a)}')\n",
    "\n",
    "a = complex(a)\n",
    "\n",
    "print(f'value of a is {a} and {type(a)}')"
   ]
  },
  {
   "cell_type": "markdown",
   "id": "998295f9",
   "metadata": {},
   "source": [
    "### Complex to float / int"
   ]
  },
  {
   "cell_type": "code",
   "execution_count": 18,
   "id": "4e679d70",
   "metadata": {},
   "outputs": [
    {
     "name": "stdout",
     "output_type": "stream",
     "text": [
      "value of a is (50.45+10j) and <class 'complex'>\n"
     ]
    },
    {
     "ename": "TypeError",
     "evalue": "can't convert complex to int",
     "output_type": "error",
     "traceback": [
      "\u001b[1;31m---------------------------------------------------------------------------\u001b[0m",
      "\u001b[1;31mTypeError\u001b[0m                                 Traceback (most recent call last)",
      "\u001b[1;32m<ipython-input-18-392afcdb6d35>\u001b[0m in \u001b[0;36m<module>\u001b[1;34m\u001b[0m\n\u001b[0;32m      3\u001b[0m \u001b[0mprint\u001b[0m\u001b[1;33m(\u001b[0m\u001b[1;34mf'value of a is {a} and {type(a)}'\u001b[0m\u001b[1;33m)\u001b[0m\u001b[1;33m\u001b[0m\u001b[1;33m\u001b[0m\u001b[0m\n\u001b[0;32m      4\u001b[0m \u001b[1;33m\u001b[0m\u001b[0m\n\u001b[1;32m----> 5\u001b[1;33m \u001b[0ma\u001b[0m \u001b[1;33m=\u001b[0m \u001b[0mint\u001b[0m\u001b[1;33m(\u001b[0m\u001b[0ma\u001b[0m\u001b[1;33m)\u001b[0m\u001b[1;33m\u001b[0m\u001b[1;33m\u001b[0m\u001b[0m\n\u001b[0m\u001b[0;32m      6\u001b[0m \u001b[1;33m\u001b[0m\u001b[0m\n\u001b[0;32m      7\u001b[0m \u001b[0mprint\u001b[0m\u001b[1;33m(\u001b[0m\u001b[1;34mf'value of a is {a} and {type(a)}'\u001b[0m\u001b[1;33m)\u001b[0m\u001b[1;33m\u001b[0m\u001b[1;33m\u001b[0m\u001b[0m\n",
      "\u001b[1;31mTypeError\u001b[0m: can't convert complex to int"
     ]
    }
   ],
   "source": [
    "a = 50.45+10j\n",
    "\n",
    "print(f'value of a is {a} and {type(a)}')\n",
    "\n",
    "a = int(a)\n",
    "\n",
    "print(f'value of a is {a} and {type(a)}')\n"
   ]
  },
  {
   "cell_type": "code",
   "execution_count": 19,
   "id": "7e1894fb",
   "metadata": {},
   "outputs": [
    {
     "name": "stdout",
     "output_type": "stream",
     "text": [
      "value of a is (50.45+10j) and <class 'complex'>\n"
     ]
    },
    {
     "ename": "TypeError",
     "evalue": "can't convert complex to float",
     "output_type": "error",
     "traceback": [
      "\u001b[1;31m---------------------------------------------------------------------------\u001b[0m",
      "\u001b[1;31mTypeError\u001b[0m                                 Traceback (most recent call last)",
      "\u001b[1;32m<ipython-input-19-4585ba4f7026>\u001b[0m in \u001b[0;36m<module>\u001b[1;34m\u001b[0m\n\u001b[0;32m      3\u001b[0m \u001b[0mprint\u001b[0m\u001b[1;33m(\u001b[0m\u001b[1;34mf'value of a is {a} and {type(a)}'\u001b[0m\u001b[1;33m)\u001b[0m\u001b[1;33m\u001b[0m\u001b[1;33m\u001b[0m\u001b[0m\n\u001b[0;32m      4\u001b[0m \u001b[1;33m\u001b[0m\u001b[0m\n\u001b[1;32m----> 5\u001b[1;33m \u001b[0ma\u001b[0m \u001b[1;33m=\u001b[0m \u001b[0mfloat\u001b[0m\u001b[1;33m(\u001b[0m\u001b[0ma\u001b[0m\u001b[1;33m)\u001b[0m\u001b[1;33m\u001b[0m\u001b[1;33m\u001b[0m\u001b[0m\n\u001b[0m\u001b[0;32m      6\u001b[0m \u001b[1;33m\u001b[0m\u001b[0m\n\u001b[0;32m      7\u001b[0m \u001b[0mprint\u001b[0m\u001b[1;33m(\u001b[0m\u001b[1;34mf'value of a is {a} and {type(a)}'\u001b[0m\u001b[1;33m)\u001b[0m\u001b[1;33m\u001b[0m\u001b[1;33m\u001b[0m\u001b[0m\n",
      "\u001b[1;31mTypeError\u001b[0m: can't convert complex to float"
     ]
    }
   ],
   "source": [
    "a = 50.45+10j\n",
    "\n",
    "print(f'value of a is {a} and {type(a)}')\n",
    "\n",
    "a = float(a)\n",
    "\n",
    "print(f'value of a is {a} and {type(a)}')\n"
   ]
  },
  {
   "cell_type": "markdown",
   "id": "e198adc5",
   "metadata": {},
   "source": [
    "## String "
   ]
  },
  {
   "cell_type": "raw",
   "id": "4f492e21",
   "metadata": {},
   "source": [
    "Collection of characters\n",
    "Surrounded by single, double or triple quote\n",
    "\n",
    "single quote ---we can not use single quote inside the single quotes e.g 'what's your name'\n",
    "double quote ---we can not use double quote inside the double quotes"
   ]
  },
  {
   "cell_type": "code",
   "execution_count": 22,
   "id": "799c67c3",
   "metadata": {},
   "outputs": [
    {
     "data": {
      "text/plain": [
       "'Hi this is python class'"
      ]
     },
     "execution_count": 22,
     "metadata": {},
     "output_type": "execute_result"
    }
   ],
   "source": [
    "s = 'Hi this is python class'\n",
    "s"
   ]
  },
  {
   "cell_type": "code",
   "execution_count": 23,
   "id": "cd7111cd",
   "metadata": {},
   "outputs": [
    {
     "data": {
      "text/plain": [
       "str"
      ]
     },
     "execution_count": 23,
     "metadata": {},
     "output_type": "execute_result"
    }
   ],
   "source": [
    "s = 'Hi this is python class'\n",
    "type(s)"
   ]
  },
  {
   "cell_type": "code",
   "execution_count": 25,
   "id": "34220d25",
   "metadata": {},
   "outputs": [
    {
     "ename": "SyntaxError",
     "evalue": "invalid syntax (<ipython-input-25-b21cca0c6e39>, line 1)",
     "output_type": "error",
     "traceback": [
      "\u001b[1;36m  File \u001b[1;32m\"<ipython-input-25-b21cca0c6e39>\"\u001b[1;36m, line \u001b[1;32m1\u001b[0m\n\u001b[1;33m    d = 'what's your name'\u001b[0m\n\u001b[1;37m              ^\u001b[0m\n\u001b[1;31mSyntaxError\u001b[0m\u001b[1;31m:\u001b[0m invalid syntax\n"
     ]
    }
   ],
   "source": [
    "d = 'what's your name' \n",
    "# we can not use single quote inside the single quotes\n",
    "d"
   ]
  },
  {
   "cell_type": "code",
   "execution_count": 26,
   "id": "9527da90",
   "metadata": {},
   "outputs": [
    {
     "data": {
      "text/plain": [
       "'Hi all'"
      ]
     },
     "execution_count": 26,
     "metadata": {},
     "output_type": "execute_result"
    }
   ],
   "source": [
    "d = \"Hi all\"\n",
    "d"
   ]
  },
  {
   "cell_type": "code",
   "execution_count": 29,
   "id": "cfdcc1da",
   "metadata": {},
   "outputs": [
    {
     "data": {
      "text/plain": [
       "' hi all this is python class\\nyou are learning basics of python'"
      ]
     },
     "execution_count": 29,
     "metadata": {},
     "output_type": "execute_result"
    }
   ],
   "source": [
    "t = ''' hi all this is python class\n",
    "you are learning basics of python'''\n",
    "t"
   ]
  },
  {
   "cell_type": "code",
   "execution_count": null,
   "id": "55af0d40",
   "metadata": {},
   "outputs": [],
   "source": []
  },
  {
   "cell_type": "markdown",
   "id": "54c65c56",
   "metadata": {},
   "source": [
    "### string to int"
   ]
  },
  {
   "cell_type": "code",
   "execution_count": 30,
   "id": "adeae4b6",
   "metadata": {},
   "outputs": [
    {
     "name": "stdout",
     "output_type": "stream",
     "text": [
      "value of a is 100 and <class 'str'>\n",
      "value of a is 100 and <class 'int'>\n"
     ]
    }
   ],
   "source": [
    "a = '100'\n",
    "\n",
    "print(f'value of a is {a} and {type(a)}')\n",
    "\n",
    "\n",
    "a = int(a)\n",
    "\n",
    "\n",
    "print(f'value of a is {a} and {type(a)}')\n"
   ]
  },
  {
   "cell_type": "code",
   "execution_count": 32,
   "id": "1156b9a8",
   "metadata": {},
   "outputs": [
    {
     "name": "stdout",
     "output_type": "stream",
     "text": [
      "value of a is 100a and <class 'str'>\n"
     ]
    },
    {
     "ename": "ValueError",
     "evalue": "invalid literal for int() with base 10: '100a'",
     "output_type": "error",
     "traceback": [
      "\u001b[1;31m---------------------------------------------------------------------------\u001b[0m",
      "\u001b[1;31mValueError\u001b[0m                                Traceback (most recent call last)",
      "\u001b[1;32m<ipython-input-32-83fb7da0dc1f>\u001b[0m in \u001b[0;36m<module>\u001b[1;34m\u001b[0m\n\u001b[0;32m      4\u001b[0m \u001b[1;33m\u001b[0m\u001b[0m\n\u001b[0;32m      5\u001b[0m \u001b[1;33m\u001b[0m\u001b[0m\n\u001b[1;32m----> 6\u001b[1;33m \u001b[0ma\u001b[0m \u001b[1;33m=\u001b[0m \u001b[0mint\u001b[0m\u001b[1;33m(\u001b[0m\u001b[0ma\u001b[0m\u001b[1;33m)\u001b[0m\u001b[1;33m\u001b[0m\u001b[1;33m\u001b[0m\u001b[0m\n\u001b[0m\u001b[0;32m      7\u001b[0m \u001b[1;33m\u001b[0m\u001b[0m\n\u001b[0;32m      8\u001b[0m \u001b[1;33m\u001b[0m\u001b[0m\n",
      "\u001b[1;31mValueError\u001b[0m: invalid literal for int() with base 10: '100a'"
     ]
    }
   ],
   "source": [
    "a = '100a'\n",
    "\n",
    "print(f'value of a is {a} and {type(a)}')\n",
    "\n",
    "\n",
    "a = int(a)\n",
    "\n",
    "\n",
    "print(f'value of a is {a} and {type(a)}')\n"
   ]
  },
  {
   "cell_type": "code",
   "execution_count": 33,
   "id": "b60ff3b5",
   "metadata": {},
   "outputs": [
    {
     "name": "stdout",
     "output_type": "stream",
     "text": [
      "value of a is  100  and <class 'str'>\n",
      "value of a is 100 and <class 'int'>\n"
     ]
    }
   ],
   "source": [
    "a = ' 100 '\n",
    "\n",
    "print(f'value of a is {a} and {type(a)}')\n",
    "\n",
    "\n",
    "a = int(a)\n",
    "\n",
    "\n",
    "print(f'value of a is {a} and {type(a)}')\n"
   ]
  },
  {
   "cell_type": "markdown",
   "id": "6be764fc",
   "metadata": {},
   "source": [
    "### int to string "
   ]
  },
  {
   "cell_type": "code",
   "execution_count": 31,
   "id": "2b8d7e55",
   "metadata": {},
   "outputs": [
    {
     "name": "stdout",
     "output_type": "stream",
     "text": [
      "value of a is 100 and <class 'int'>\n",
      "value of a is 100 and <class 'str'>\n"
     ]
    }
   ],
   "source": [
    "a = 100\n",
    "\n",
    "print(f'value of a is {a} and {type(a)}')\n",
    "\n",
    "\n",
    "a = str(a)\n",
    "\n",
    "\n",
    "print(f'value of a is {a} and {type(a)}')"
   ]
  },
  {
   "cell_type": "markdown",
   "id": "bc577aec",
   "metadata": {},
   "source": [
    "### float to string"
   ]
  },
  {
   "cell_type": "code",
   "execution_count": 34,
   "id": "defcac35",
   "metadata": {},
   "outputs": [
    {
     "name": "stdout",
     "output_type": "stream",
     "text": [
      "value of a is 123.345 and <class 'float'>\n",
      "value of a is 123.345 and <class 'str'>\n"
     ]
    }
   ],
   "source": [
    "a = 123.345\n",
    "\n",
    "print(f'value of a is {a} and {type(a)}')\n",
    "\n",
    "\n",
    "a = str(a)\n",
    "\n",
    "\n",
    "print(f'value of a is {a} and {type(a)}')"
   ]
  },
  {
   "cell_type": "markdown",
   "id": "3720aa78",
   "metadata": {},
   "source": [
    "### String to float"
   ]
  },
  {
   "cell_type": "code",
   "execution_count": 35,
   "id": "36d17d15",
   "metadata": {},
   "outputs": [
    {
     "name": "stdout",
     "output_type": "stream",
     "text": [
      "value of a is 123.345 and <class 'str'>\n",
      "value of a is 123.345 and <class 'float'>\n"
     ]
    }
   ],
   "source": [
    "a = '123.345'\n",
    "\n",
    "print(f'value of a is {a} and {type(a)}')\n",
    "\n",
    "\n",
    "a = float(a)\n",
    "\n",
    "\n",
    "print(f'value of a is {a} and {type(a)}')"
   ]
  },
  {
   "cell_type": "code",
   "execution_count": 36,
   "id": "530df1ef",
   "metadata": {},
   "outputs": [
    {
     "name": "stdout",
     "output_type": "stream",
     "text": [
      "value of a is 123.345a and <class 'str'>\n"
     ]
    },
    {
     "ename": "ValueError",
     "evalue": "could not convert string to float: '123.345a'",
     "output_type": "error",
     "traceback": [
      "\u001b[1;31m---------------------------------------------------------------------------\u001b[0m",
      "\u001b[1;31mValueError\u001b[0m                                Traceback (most recent call last)",
      "\u001b[1;32m<ipython-input-36-f4cbe38c2074>\u001b[0m in \u001b[0;36m<module>\u001b[1;34m\u001b[0m\n\u001b[0;32m      4\u001b[0m \u001b[1;33m\u001b[0m\u001b[0m\n\u001b[0;32m      5\u001b[0m \u001b[1;33m\u001b[0m\u001b[0m\n\u001b[1;32m----> 6\u001b[1;33m \u001b[0ma\u001b[0m \u001b[1;33m=\u001b[0m \u001b[0mfloat\u001b[0m\u001b[1;33m(\u001b[0m\u001b[0ma\u001b[0m\u001b[1;33m)\u001b[0m\u001b[1;33m\u001b[0m\u001b[1;33m\u001b[0m\u001b[0m\n\u001b[0m\u001b[0;32m      7\u001b[0m \u001b[1;33m\u001b[0m\u001b[0m\n\u001b[0;32m      8\u001b[0m \u001b[1;33m\u001b[0m\u001b[0m\n",
      "\u001b[1;31mValueError\u001b[0m: could not convert string to float: '123.345a'"
     ]
    }
   ],
   "source": [
    "a = '123.345a'\n",
    "\n",
    "print(f'value of a is {a} and {type(a)}')\n",
    "\n",
    "\n",
    "a = float(a)\n",
    "\n",
    "\n",
    "print(f'value of a is {a} and {type(a)}')"
   ]
  }
 ],
 "metadata": {
  "kernelspec": {
   "display_name": "Python 3",
   "language": "python",
   "name": "python3"
  },
  "language_info": {
   "codemirror_mode": {
    "name": "ipython",
    "version": 3
   },
   "file_extension": ".py",
   "mimetype": "text/x-python",
   "name": "python",
   "nbconvert_exporter": "python",
   "pygments_lexer": "ipython3",
   "version": "3.8.8"
  }
 },
 "nbformat": 4,
 "nbformat_minor": 5
}
