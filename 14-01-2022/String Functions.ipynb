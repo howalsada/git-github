{
 "cells": [
  {
   "cell_type": "markdown",
   "id": "1116695f",
   "metadata": {},
   "source": [
    "## 1. capitalize()"
   ]
  },
  {
   "cell_type": "raw",
   "id": "e35452e1",
   "metadata": {},
   "source": [
    "Capitalizes first letter of a string"
   ]
  },
  {
   "cell_type": "code",
   "execution_count": 1,
   "id": "ca14d366",
   "metadata": {},
   "outputs": [
    {
     "data": {
      "text/plain": [
       "'Hello all'"
      ]
     },
     "execution_count": 1,
     "metadata": {},
     "output_type": "execute_result"
    }
   ],
   "source": [
    "str1 = 'hello all'\n",
    "str1.capitalize()"
   ]
  },
  {
   "cell_type": "code",
   "execution_count": 2,
   "id": "032f9fe6",
   "metadata": {},
   "outputs": [
    {
     "data": {
      "text/plain": [
       "' hello all'"
      ]
     },
     "execution_count": 2,
     "metadata": {},
     "output_type": "execute_result"
    }
   ],
   "source": [
    "str1 = ' hello all'\n",
    "str1.capitalize()"
   ]
  },
  {
   "cell_type": "code",
   "execution_count": 3,
   "id": "ac5e4e1e",
   "metadata": {},
   "outputs": [
    {
     "data": {
      "text/plain": [
       "'Dypatilt'"
      ]
     },
     "execution_count": 3,
     "metadata": {},
     "output_type": "execute_result"
    }
   ],
   "source": [
    "str1 = 'dypatilT'\n",
    "str1.capitalize()"
   ]
  },
  {
   "cell_type": "markdown",
   "id": "2b2ffb56",
   "metadata": {},
   "source": [
    "## 2. upper()"
   ]
  },
  {
   "cell_type": "code",
   "execution_count": 4,
   "id": "7aed12ab",
   "metadata": {},
   "outputs": [
    {
     "data": {
      "text/plain": [
       "'HELLO PYTHON'"
      ]
     },
     "execution_count": 4,
     "metadata": {},
     "output_type": "execute_result"
    }
   ],
   "source": [
    "str1 = \"Hello Python\"\n",
    "str1.upper()"
   ]
  },
  {
   "cell_type": "code",
   "execution_count": 6,
   "id": "eaae495e",
   "metadata": {},
   "outputs": [
    {
     "data": {
      "text/plain": [
       "'DATA SCIENCE'"
      ]
     },
     "execution_count": 6,
     "metadata": {},
     "output_type": "execute_result"
    }
   ],
   "source": [
    "a = \"Data Science\"\n",
    "a = a.upper()\n",
    "a"
   ]
  },
  {
   "cell_type": "code",
   "execution_count": 7,
   "id": "730b5422",
   "metadata": {},
   "outputs": [
    {
     "data": {
      "text/plain": [
       "'AXS1234CD'"
      ]
     },
     "execution_count": 7,
     "metadata": {},
     "output_type": "execute_result"
    }
   ],
   "source": [
    "pan_card = 'axs1234cd'\n",
    "pan_card.upper()"
   ]
  },
  {
   "cell_type": "code",
   "execution_count": 8,
   "id": "2e825bfe",
   "metadata": {},
   "outputs": [
    {
     "data": {
      "text/plain": [
       "False"
      ]
     },
     "execution_count": 8,
     "metadata": {},
     "output_type": "execute_result"
    }
   ],
   "source": [
    "adhar_name = 'Rohit Sharma'\n",
    "pan_name = 'rohit sharma'\n",
    "\n",
    "adhar_name == pan_name"
   ]
  },
  {
   "cell_type": "code",
   "execution_count": 9,
   "id": "515f2db5",
   "metadata": {},
   "outputs": [
    {
     "data": {
      "text/plain": [
       "True"
      ]
     },
     "execution_count": 9,
     "metadata": {},
     "output_type": "execute_result"
    }
   ],
   "source": [
    "adhar_name = 'Rohit Sharma'\n",
    "pan_name = 'rohit sharma'\n",
    "\n",
    "adhar_name = adhar_name.upper()\n",
    "pan_name = pan_name.upper()\n",
    "\n",
    "adhar_name == pan_name"
   ]
  },
  {
   "cell_type": "code",
   "execution_count": 10,
   "id": "b9ae35af",
   "metadata": {},
   "outputs": [
    {
     "name": "stdout",
     "output_type": "stream",
     "text": [
      "Both Names are different\n"
     ]
    }
   ],
   "source": [
    "adhar_name = 'Rohit Sharma'\n",
    "pan_name = 'rohit sharma'\n",
    "\n",
    "# adhar_name = adhar_name.upper()\n",
    "# pan_name = pan_name.upper()\n",
    "\n",
    "if adhar_name == pan_name:\n",
    "    print(\"Both names are similar\")\n",
    "else:\n",
    "    print(\"Both Names are different\")"
   ]
  },
  {
   "cell_type": "code",
   "execution_count": 11,
   "id": "07caca44",
   "metadata": {},
   "outputs": [
    {
     "name": "stdout",
     "output_type": "stream",
     "text": [
      "Both names are similar\n"
     ]
    }
   ],
   "source": [
    "adhar_name = 'Rohit Sharma'\n",
    "pan_name = 'rohit sharma'\n",
    "\n",
    "adhar_name = adhar_name.upper()\n",
    "pan_name = pan_name.upper()\n",
    "\n",
    "if adhar_name == pan_name:\n",
    "    print(\"Both names are similar\")\n",
    "else:\n",
    "    print(\"Both Names are different\")"
   ]
  },
  {
   "cell_type": "code",
   "execution_count": 12,
   "id": "be1e689e",
   "metadata": {},
   "outputs": [
    {
     "name": "stdout",
     "output_type": "stream",
     "text": [
      "Both names are similar\n"
     ]
    }
   ],
   "source": [
    "adhar_name = 'Rohit Sharma'\n",
    "pan_name = 'rohit sharma'\n",
    "\n",
    "# adhar_name = adhar_name.upper()\n",
    "# pan_name = pan_name.upper()\n",
    "\n",
    "if adhar_name.upper() == pan_name.upper():\n",
    "    print(\"Both names are similar\")\n",
    "else:\n",
    "    print(\"Both Names are different\")"
   ]
  },
  {
   "cell_type": "markdown",
   "id": "55f2ebb5",
   "metadata": {},
   "source": [
    "### 3. lower()"
   ]
  },
  {
   "cell_type": "code",
   "execution_count": 13,
   "id": "71df0673",
   "metadata": {},
   "outputs": [
    {
     "data": {
      "text/plain": [
       "'rohit sharma'"
      ]
     },
     "execution_count": 13,
     "metadata": {},
     "output_type": "execute_result"
    }
   ],
   "source": [
    "adhar_name = 'Rohit sharma'\n",
    "adhar_name.lower()"
   ]
  },
  {
   "cell_type": "code",
   "execution_count": 14,
   "id": "0ea1f9b4",
   "metadata": {},
   "outputs": [
    {
     "name": "stdout",
     "output_type": "stream",
     "text": [
      "User name is correct\n"
     ]
    }
   ],
   "source": [
    "user_name = 'VAIBHAV'\n",
    "input_name = 'vaibhav'\n",
    "\n",
    "if user_name.lower() == input_name.lower():\n",
    "    print('User name is correct')\n",
    "else:\n",
    "    print(\"User doesn`t exist\")\n",
    "    "
   ]
  },
  {
   "cell_type": "code",
   "execution_count": 15,
   "id": "5867dee4",
   "metadata": {},
   "outputs": [
    {
     "name": "stdout",
     "output_type": "stream",
     "text": [
      "User doesn`t exist\n"
     ]
    }
   ],
   "source": [
    "user_name = 'VAIBHAV'\n",
    "input_name = 'vaibav'\n",
    "\n",
    "if user_name.lower() == input_name.lower():\n",
    "    print('User name is correct')\n",
    "else:\n",
    "    print(\"User doesn`t exist\")\n",
    "    "
   ]
  },
  {
   "cell_type": "markdown",
   "id": "a4e3db36",
   "metadata": {},
   "source": [
    "### 4. title()\n"
   ]
  },
  {
   "cell_type": "raw",
   "id": "41c591d1",
   "metadata": {},
   "source": [
    "totle case\n",
    "capitalize first character of each word"
   ]
  },
  {
   "cell_type": "code",
   "execution_count": 16,
   "id": "b2f91ae2",
   "metadata": {},
   "outputs": [
    {
     "data": {
      "text/plain": [
       "'Hello All We Are Learning Python Programming'"
      ]
     },
     "execution_count": 16,
     "metadata": {},
     "output_type": "execute_result"
    }
   ],
   "source": [
    "str1 = \"hello all we are learning python programming\"\n",
    "str1.title()"
   ]
  },
  {
   "cell_type": "code",
   "execution_count": 17,
   "id": "ab84ff04",
   "metadata": {},
   "outputs": [
    {
     "data": {
      "text/plain": [
       "'United States Of America'"
      ]
     },
     "execution_count": 17,
     "metadata": {},
     "output_type": "execute_result"
    }
   ],
   "source": [
    "str1 = 'united states of america'\n",
    "str1.title()"
   ]
  },
  {
   "cell_type": "code",
   "execution_count": 18,
   "id": "52afd66d",
   "metadata": {},
   "outputs": [
    {
     "data": {
      "text/plain": [
       "'India'"
      ]
     },
     "execution_count": 18,
     "metadata": {},
     "output_type": "execute_result"
    }
   ],
   "source": [
    "str1 = 'india'\n",
    "str1.title()"
   ]
  },
  {
   "cell_type": "markdown",
   "id": "6ff29fb3",
   "metadata": {},
   "source": [
    "### 5. lstrip()"
   ]
  },
  {
   "cell_type": "raw",
   "id": "2a5c56b9",
   "metadata": {},
   "source": [
    "removes the leading/ left whitespaces from given string"
   ]
  },
  {
   "cell_type": "code",
   "execution_count": null,
   "id": "35cb8204",
   "metadata": {},
   "outputs": [],
   "source": [
    "whitespaces ---space,\\t"
   ]
  },
  {
   "cell_type": "code",
   "execution_count": 19,
   "id": "c97d7e43",
   "metadata": {},
   "outputs": [
    {
     "data": {
      "text/plain": [
       "'python'"
      ]
     },
     "execution_count": 19,
     "metadata": {},
     "output_type": "execute_result"
    }
   ],
   "source": [
    "str1 = '     python'\n",
    "str1.lstrip()"
   ]
  },
  {
   "cell_type": "code",
   "execution_count": 20,
   "id": "2303de34",
   "metadata": {},
   "outputs": [
    {
     "data": {
      "text/plain": [
       "'leading by 250'"
      ]
     },
     "execution_count": 20,
     "metadata": {},
     "output_type": "execute_result"
    }
   ],
   "source": [
    "str1 = '                   leading by 250'\n",
    "str1 =str1.lstrip()\n",
    "str1"
   ]
  },
  {
   "cell_type": "markdown",
   "id": "213ee0b5",
   "metadata": {},
   "source": [
    "### 6. rstrip()"
   ]
  },
  {
   "cell_type": "raw",
   "id": "2990618d",
   "metadata": {},
   "source": [
    "removes the trailing/right side whitespaces from given string"
   ]
  },
  {
   "cell_type": "code",
   "execution_count": 21,
   "id": "a1be86c7",
   "metadata": {},
   "outputs": [
    {
     "data": {
      "text/plain": [
       "'python'"
      ]
     },
     "execution_count": 21,
     "metadata": {},
     "output_type": "execute_result"
    }
   ],
   "source": [
    "str1 = 'python                 '\n",
    "str1.rstrip()"
   ]
  },
  {
   "cell_type": "code",
   "execution_count": 22,
   "id": "5dcc29ac",
   "metadata": {},
   "outputs": [
    {
     "data": {
      "text/plain": [
       "'Machine Learning'"
      ]
     },
     "execution_count": 22,
     "metadata": {},
     "output_type": "execute_result"
    }
   ],
   "source": [
    "str1 = \"Machine Learning                              \"\n",
    "str1 = str1.rstrip()\n",
    "str1"
   ]
  },
  {
   "cell_type": "code",
   "execution_count": 23,
   "id": "1cc64368",
   "metadata": {},
   "outputs": [
    {
     "data": {
      "text/plain": [
       "False"
      ]
     },
     "execution_count": 23,
     "metadata": {},
     "output_type": "execute_result"
    }
   ],
   "source": [
    "str1 = 'Virat Kohali               '\n",
    "str2 = '             virat kohali'\n",
    "\n",
    "str1 == str2"
   ]
  },
  {
   "cell_type": "code",
   "execution_count": 28,
   "id": "997da0cc",
   "metadata": {},
   "outputs": [
    {
     "name": "stdout",
     "output_type": "stream",
     "text": [
      "it is correct\n"
     ]
    }
   ],
   "source": [
    "str1 = 'machine learning             '\n",
    "str2 ='                              machine Learning '\n",
    "\n",
    "str1 = str1.lower()\n",
    "str2 = str2.lower()\n",
    "\n",
    "if str1.rstrip() == str2.lstrip():\n",
    "    print(\"it is correct\")\n",
    "else:\n",
    "    print(\"it is wrong\")"
   ]
  },
  {
   "cell_type": "markdown",
   "id": "fd045bbd",
   "metadata": {},
   "source": [
    "### 7. strip()"
   ]
  },
  {
   "cell_type": "raw",
   "id": "02651651",
   "metadata": {},
   "source": [
    "leading and trailing whitespaces removes"
   ]
  },
  {
   "cell_type": "code",
   "execution_count": 29,
   "id": "ffdc90bf",
   "metadata": {},
   "outputs": [
    {
     "data": {
      "text/plain": [
       "'machine Learning'"
      ]
     },
     "execution_count": 29,
     "metadata": {},
     "output_type": "execute_result"
    }
   ],
   "source": [
    "str2 ='                              machine Learning                 '\n",
    "\n",
    "str2.strip()"
   ]
  },
  {
   "cell_type": "code",
   "execution_count": 30,
   "id": "16c4e969",
   "metadata": {},
   "outputs": [
    {
     "name": "stdout",
     "output_type": "stream",
     "text": [
      "it is correct\n"
     ]
    }
   ],
   "source": [
    "str1 = '     machine learning             '\n",
    "str2 ='                              machine Learning           '\n",
    "\n",
    "str1 = str1.lower()\n",
    "str2 = str2.lower()\n",
    "\n",
    "if str1.strip() == str2.strip():\n",
    "    print(\"it is correct\")\n",
    "else:\n",
    "    print(\"it is wrong\")"
   ]
  },
  {
   "cell_type": "raw",
   "id": "2cf32ee5",
   "metadata": {},
   "source": [
    "Applications:\n",
    "\n",
    "NLP--Natural Language Processing\n",
    "     Image--->Adhar, PAN, Driving License etc. \n",
    "     ADHAR---Name, adress, Adhar number\n",
    "     PAN ---NAME, DoB, Father Name, Pan No\n",
    "     \n",
    "     OCR ---Optical Character Recognization ---->Database --customer_id\n",
    "    \n",
    " adhar_no = '        900505054949   '\n",
    " adhar_name = '  hdhdhdhdh jdjdjdj'\n",
    " \n",
    " OCR :\n",
    " Google vision\n",
    " pytessract\n",
    " AWS tessract"
   ]
  },
  {
   "cell_type": "markdown",
   "id": "c009ae4c",
   "metadata": {},
   "source": [
    "### 8. swapcase()"
   ]
  },
  {
   "cell_type": "raw",
   "id": "45fcd4d0",
   "metadata": {},
   "source": [
    "lower case to upper case and uppercase to lower case"
   ]
  },
  {
   "cell_type": "code",
   "execution_count": 31,
   "id": "9dfb94a1",
   "metadata": {},
   "outputs": [
    {
     "data": {
      "text/plain": [
       "' i AM dATA sCIENTIST'"
      ]
     },
     "execution_count": 31,
     "metadata": {},
     "output_type": "execute_result"
    }
   ],
   "source": [
    "str1 = \" I am Data Scientist\"\n",
    "str1.swapcase()"
   ]
  },
  {
   "cell_type": "markdown",
   "id": "ae6fd49f",
   "metadata": {},
   "source": [
    "### 9. replace()"
   ]
  },
  {
   "cell_type": "raw",
   "id": "cf13a608",
   "metadata": {},
   "source": [
    "syntax: string.replace(old_str,new_str, [count])"
   ]
  },
  {
   "cell_type": "code",
   "execution_count": 32,
   "id": "7be679bb",
   "metadata": {},
   "outputs": [
    {
     "data": {
      "text/plain": [
       "'Java class'"
      ]
     },
     "execution_count": 32,
     "metadata": {},
     "output_type": "execute_result"
    }
   ],
   "source": [
    "str1 = 'python class'\n",
    "str1.replace('python','Java')"
   ]
  },
  {
   "cell_type": "code",
   "execution_count": 33,
   "id": "d328a3ed",
   "metadata": {},
   "outputs": [
    {
     "data": {
      "text/plain": [
       "'Cython class'"
      ]
     },
     "execution_count": 33,
     "metadata": {},
     "output_type": "execute_result"
    }
   ],
   "source": [
    "str1 = 'python class'\n",
    "str1.replace('p','C')"
   ]
  },
  {
   "cell_type": "code",
   "execution_count": 35,
   "id": "e408aca4",
   "metadata": {},
   "outputs": [
    {
     "data": {
      "text/plain": [
       "'We are learing Machine science programming'"
      ]
     },
     "execution_count": 35,
     "metadata": {},
     "output_type": "execute_result"
    }
   ],
   "source": [
    "str1 = 'We are learing Data science programming'\n",
    "str1.replace('Data','Machine')"
   ]
  },
  {
   "cell_type": "code",
   "execution_count": 37,
   "id": "c2d6fa93",
   "metadata": {},
   "outputs": [
    {
     "data": {
      "text/plain": [
       "'Java is a programming language and Data Science is a concept'"
      ]
     },
     "execution_count": 37,
     "metadata": {},
     "output_type": "execute_result"
    }
   ],
   "source": [
    "str1 = 'Python is a programming language and Data Science is a concept'\n",
    "\n",
    "str1.replace('Python','Java')\n"
   ]
  },
  {
   "cell_type": "code",
   "execution_count": 38,
   "id": "6469a3a9",
   "metadata": {},
   "outputs": [
    {
     "data": {
      "text/plain": [
       "'Java is a programming language and DATA Science is a concept'"
      ]
     },
     "execution_count": 38,
     "metadata": {},
     "output_type": "execute_result"
    }
   ],
   "source": [
    "str1.replace('Python','Java').replace('Data','DATA')"
   ]
  },
  {
   "cell_type": "code",
   "execution_count": null,
   "id": "91f96f84",
   "metadata": {},
   "outputs": [],
   "source": []
  },
  {
   "cell_type": "markdown",
   "id": "7ee9af5c",
   "metadata": {},
   "source": [
    "# WAP to remove vowels from the string"
   ]
  },
  {
   "cell_type": "code",
   "execution_count": 42,
   "id": "ac2bab5f",
   "metadata": {},
   "outputs": [
    {
     "data": {
      "text/plain": [
       "'Hi, DYPT students, hope you *re s*fe,  you *re python *spir*nts'"
      ]
     },
     "execution_count": 42,
     "metadata": {},
     "output_type": "execute_result"
    }
   ],
   "source": [
    "str1 = \"Hi, DYPT students, hope you are safe,  you are python aspirants\"\n",
    "\n",
    "str1.replace('a','*')"
   ]
  },
  {
   "cell_type": "code",
   "execution_count": 43,
   "id": "a699106d",
   "metadata": {},
   "outputs": [
    {
     "data": {
      "text/plain": [
       "'Hi, DYPT students, hope you **re s**fe,  you **re python **spir**nts'"
      ]
     },
     "execution_count": 43,
     "metadata": {},
     "output_type": "execute_result"
    }
   ],
   "source": [
    "str1.replace('a','**')"
   ]
  },
  {
   "cell_type": "code",
   "execution_count": 44,
   "id": "519fa9f3",
   "metadata": {},
   "outputs": [
    {
     "data": {
      "text/plain": [
       "'Hi, DYPT students, hope you re sfe,  you re python spirnts'"
      ]
     },
     "execution_count": 44,
     "metadata": {},
     "output_type": "execute_result"
    }
   ],
   "source": [
    "str1.replace('a','')"
   ]
  },
  {
   "cell_type": "code",
   "execution_count": 45,
   "id": "86e34ed1",
   "metadata": {},
   "outputs": [
    {
     "data": {
      "text/plain": [
       "'Hi, DYPT studnts, hop you r sf,  you r python spirnts'"
      ]
     },
     "execution_count": 45,
     "metadata": {},
     "output_type": "execute_result"
    }
   ],
   "source": [
    "str1.replace('a','').replace('e','')"
   ]
  },
  {
   "cell_type": "code",
   "execution_count": 46,
   "id": "d9b06665",
   "metadata": {},
   "outputs": [
    {
     "data": {
      "text/plain": [
       "'H, DYPT studnts, hop you r sf,  you r python sprnts'"
      ]
     },
     "execution_count": 46,
     "metadata": {},
     "output_type": "execute_result"
    }
   ],
   "source": [
    "str1.replace('a','').replace('e','').replace('i','')"
   ]
  },
  {
   "cell_type": "code",
   "execution_count": 47,
   "id": "89d0aac5",
   "metadata": {},
   "outputs": [
    {
     "data": {
      "text/plain": [
       "'H, DYPT studnts, hp yu r sf,  yu r pythn sprnts'"
      ]
     },
     "execution_count": 47,
     "metadata": {},
     "output_type": "execute_result"
    }
   ],
   "source": [
    "str1.replace('a','').replace('e','').replace('i','').replace('o','')"
   ]
  },
  {
   "cell_type": "code",
   "execution_count": 48,
   "id": "a211b0d9",
   "metadata": {},
   "outputs": [
    {
     "data": {
      "text/plain": [
       "'H, DYPT stdnts, hp y r sf,  y r pythn sprnts'"
      ]
     },
     "execution_count": 48,
     "metadata": {},
     "output_type": "execute_result"
    }
   ],
   "source": [
    "str1.replace('a','').replace('e','').replace('i','').replace('o','').replace('u','')"
   ]
  },
  {
   "cell_type": "markdown",
   "id": "dc192932",
   "metadata": {},
   "source": [
    "# Occurance Replacement"
   ]
  },
  {
   "cell_type": "code",
   "execution_count": 50,
   "id": "83a0e922",
   "metadata": {},
   "outputs": [
    {
     "data": {
      "text/plain": [
       "'Java is very powerful language. Python is verstile'"
      ]
     },
     "execution_count": 50,
     "metadata": {},
     "output_type": "execute_result"
    }
   ],
   "source": [
    "str1 = 'Python is very powerful language. Python is verstile'\n",
    "str1.replace('Python', \"Java\", 1)"
   ]
  },
  {
   "cell_type": "code",
   "execution_count": 52,
   "id": "8213c16b",
   "metadata": {},
   "outputs": [
    {
     "data": {
      "text/plain": [
       "'Java is very powerful language. Java is verstile'"
      ]
     },
     "execution_count": 52,
     "metadata": {},
     "output_type": "execute_result"
    }
   ],
   "source": [
    "str1 = 'Python is very powerful language. Python is verstile'\n",
    "str1.replace('Python', \"Java\", 2)"
   ]
  },
  {
   "cell_type": "code",
   "execution_count": 54,
   "id": "f73f49c4",
   "metadata": {},
   "outputs": [
    {
     "data": {
      "text/plain": [
       "'Java is very powerful language. Java is verstile Java Python'"
      ]
     },
     "execution_count": 54,
     "metadata": {},
     "output_type": "execute_result"
    }
   ],
   "source": [
    "str1 = 'Python is very powerful language. Python is verstile Python Python'\n",
    "str1.replace('Python', \"Java\", 3)"
   ]
  },
  {
   "cell_type": "code",
   "execution_count": 55,
   "id": "dbc4fecd",
   "metadata": {},
   "outputs": [
    {
     "data": {
      "text/plain": [
       "'What is your classs '"
      ]
     },
     "execution_count": 55,
     "metadata": {},
     "output_type": "execute_result"
    }
   ],
   "source": [
    "str1 = 'What is your classs ?????????????????????'\n",
    "str1.replace('?','')"
   ]
  },
  {
   "cell_type": "code",
   "execution_count": 57,
   "id": "dec6626d",
   "metadata": {},
   "outputs": [
    {
     "data": {
      "text/plain": [
       "'What is your classs ?'"
      ]
     },
     "execution_count": 57,
     "metadata": {},
     "output_type": "execute_result"
    }
   ],
   "source": [
    "str1 = 'What is your classs ????????????'\n",
    "str1.replace('?','',11)"
   ]
  },
  {
   "cell_type": "code",
   "execution_count": null,
   "id": "a41df56a",
   "metadata": {},
   "outputs": [],
   "source": []
  }
 ],
 "metadata": {
  "kernelspec": {
   "display_name": "Python 3",
   "language": "python",
   "name": "python3"
  },
  "language_info": {
   "codemirror_mode": {
    "name": "ipython",
    "version": 3
   },
   "file_extension": ".py",
   "mimetype": "text/x-python",
   "name": "python",
   "nbconvert_exporter": "python",
   "pygments_lexer": "ipython3",
   "version": "3.8.8"
  }
 },
 "nbformat": 4,
 "nbformat_minor": 5
}
