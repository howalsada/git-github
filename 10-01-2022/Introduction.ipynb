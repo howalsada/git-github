{
 "cells": [
  {
   "cell_type": "markdown",
   "id": "67d4f98f",
   "metadata": {},
   "source": [
    "# Python"
   ]
  },
  {
   "cell_type": "code",
   "execution_count": 4,
   "id": "ede99614",
   "metadata": {},
   "outputs": [
    {
     "name": "stdout",
     "output_type": "stream",
     "text": [
      "Hello All\n"
     ]
    }
   ],
   "source": [
    "print(\"Hello All\")"
   ]
  },
  {
   "cell_type": "code",
   "execution_count": null,
   "id": "a6827193",
   "metadata": {},
   "outputs": [],
   "source": [
    "control+enter # run current cell\n",
    "Shift + Enter #run current cell and shift to next cell\n",
    "alt+ enter # run current cell and create new cell"
   ]
  },
  {
   "cell_type": "markdown",
   "id": "c1d47ace",
   "metadata": {},
   "source": [
    "## Introduction "
   ]
  },
  {
   "cell_type": "code",
   "execution_count": null,
   "id": "a2faac02",
   "metadata": {},
   "outputs": [],
   "source": [
    "Feature: \n",
    "    1. Object oriented language (OOP concepts)\n",
    "    2. Interpreted language \n",
    "        No prior compile is required \n",
    "    3. High level programming language \n",
    "    4. Compitable with --MAC, Linux, Windows, Ras pi\n",
    "    5. Simple to debug \n",
    "    6. Programming friendly\n",
    "    7. Dynamically typed\n",
    "    "
   ]
  },
  {
   "cell_type": "code",
   "execution_count": null,
   "id": "5f942fa9",
   "metadata": {},
   "outputs": [],
   "source": [
    "Applications: \n",
    "    1. Web applications ---flask, django etc.\n",
    "    2. Machine Learning \n",
    "    3. Stats\n",
    "    4. Image Procession --OpenCV\n",
    "    5. Health care "
   ]
  },
  {
   "cell_type": "markdown",
   "id": "d613cea4",
   "metadata": {},
   "source": [
    "## Print()"
   ]
  },
  {
   "cell_type": "code",
   "execution_count": 8,
   "id": "619b31dd",
   "metadata": {},
   "outputs": [
    {
     "data": {
      "text/plain": [
       "'pyhton'"
      ]
     },
     "execution_count": 8,
     "metadata": {},
     "output_type": "execute_result"
    }
   ],
   "source": [
    "x = 'pyhton'\n",
    "x"
   ]
  },
  {
   "cell_type": "code",
   "execution_count": 10,
   "id": "4a63bc94",
   "metadata": {},
   "outputs": [
    {
     "data": {
      "text/plain": [
       "str"
      ]
     },
     "execution_count": 10,
     "metadata": {},
     "output_type": "execute_result"
    }
   ],
   "source": [
    "x = 'pyhton'\n",
    "type(x)"
   ]
  },
  {
   "cell_type": "code",
   "execution_count": 11,
   "id": "cd69a4e2",
   "metadata": {},
   "outputs": [
    {
     "name": "stdout",
     "output_type": "stream",
     "text": [
      "python\n",
      "Python\n"
     ]
    }
   ],
   "source": [
    "x = 'python'\n",
    "y = 'Python'\n",
    "print(x)\n",
    "print(y)"
   ]
  },
  {
   "cell_type": "code",
   "execution_count": 12,
   "id": "549dc0f3",
   "metadata": {},
   "outputs": [
    {
     "name": "stdout",
     "output_type": "stream",
     "text": [
      "Addition of a and b is  300\n"
     ]
    }
   ],
   "source": [
    "a = 100\n",
    "b = 200\n",
    "print('Addition of a and b is ', a+b)"
   ]
  },
  {
   "cell_type": "code",
   "execution_count": 13,
   "id": "43d8bfe5",
   "metadata": {},
   "outputs": [
    {
     "name": "stdout",
     "output_type": "stream",
     "text": [
      "Addition of a and b is  300\n"
     ]
    }
   ],
   "source": [
    "a = 100\n",
    "b = 200\n",
    "c = a + b\n",
    "print('Addition of a and b is ', c)"
   ]
  },
  {
   "cell_type": "markdown",
   "id": "5eb773c1",
   "metadata": {},
   "source": [
    "## Format()"
   ]
  },
  {
   "cell_type": "markdown",
   "id": "81bb67e2",
   "metadata": {},
   "source": [
    "# Syntax\n",
    "\n",
    "print('{},{},{}'.format(a,b,c))"
   ]
  },
  {
   "cell_type": "code",
   "execution_count": 15,
   "id": "7da8afae",
   "metadata": {},
   "outputs": [
    {
     "name": "stdout",
     "output_type": "stream",
     "text": [
      "Addition of 100 and 200 is 300\n"
     ]
    }
   ],
   "source": [
    "a = 100\n",
    "b = 200\n",
    "c = a + b\n",
    "print('Addition of {} and {} is {}'.format(a,b,c))"
   ]
  },
  {
   "cell_type": "code",
   "execution_count": 17,
   "id": "3780f2b1",
   "metadata": {},
   "outputs": [
    {
     "name": "stdout",
     "output_type": "stream",
     "text": [
      "Multiplication of 102 and 202 is 20604\n"
     ]
    }
   ],
   "source": [
    "a = 102\n",
    "b = 202\n",
    "m = a * b\n",
    "\n",
    "print('Multiplication of {} and {} is {}'.format(a,b,m))"
   ]
  },
  {
   "cell_type": "markdown",
   "id": "c0b532c5",
   "metadata": {},
   "source": [
    "## f string "
   ]
  },
  {
   "cell_type": "code",
   "execution_count": 25,
   "id": "8622187e",
   "metadata": {},
   "outputs": [
    {
     "name": "stdout",
     "output_type": "stream",
     "text": [
      "Addtion of 100 and 200 is 20000\n"
     ]
    }
   ],
   "source": [
    "a = 100 \n",
    "b = 200\n",
    "c = a * b\n",
    "print(f'Addtion of {a} and {b} is {c}')"
   ]
  },
  {
   "cell_type": "code",
   "execution_count": 20,
   "id": "125ce1ac",
   "metadata": {},
   "outputs": [
    {
     "name": "stdout",
     "output_type": "stream",
     "text": [
      "Subject marks are 60, 70, 80, 65, 78\n",
      "Percentage of marks is 70.6\n"
     ]
    }
   ],
   "source": [
    "a = 60\n",
    "b = 70\n",
    "c = 80\n",
    "d = 65\n",
    "e = 78\n",
    "\n",
    "average = (a + b + c + d + e)/5\n",
    "\n",
    "print('Subject marks are {}, {}, {}, {}, {}'.format(a,b,c,d,e))\n",
    "print(f'Percentage of marks is {average}')"
   ]
  },
  {
   "cell_type": "markdown",
   "id": "72126b17",
   "metadata": {},
   "source": [
    "## Comments "
   ]
  },
  {
   "cell_type": "raw",
   "id": "4320a3fd",
   "metadata": {},
   "source": [
    "# \n",
    "Control + /"
   ]
  },
  {
   "cell_type": "code",
   "execution_count": null,
   "id": "063d61a8",
   "metadata": {},
   "outputs": [],
   "source": [
    "# 'Hi how are you '\n",
    "# jkldsjflkds\n",
    "# jdsfkdjs;fksd\n",
    "# jksdjfk;lsdjfsd"
   ]
  },
  {
   "cell_type": "markdown",
   "id": "56623ca0",
   "metadata": {},
   "source": [
    "## Indentation"
   ]
  },
  {
   "cell_type": "code",
   "execution_count": null,
   "id": "f609c7c6",
   "metadata": {},
   "outputs": [],
   "source": [
    "Sapce at the begining of a code\n",
    "To create the block code (if, while , for, function)\n",
    "\n",
    "C program \n",
    "int a = 100 \n",
    "if(a>=100)\n",
    "{\n",
    "    \n",
    "    \n",
    "    \n",
    "}"
   ]
  },
  {
   "cell_type": "code",
   "execution_count": 24,
   "id": "a59bf12a",
   "metadata": {},
   "outputs": [
    {
     "name": "stdout",
     "output_type": "stream",
     "text": [
      "A is 10\n",
      "A is 20\n"
     ]
    }
   ],
   "source": [
    "a = 10\n",
    "if a>=10:\n",
    "    print('A is 10')\n",
    "    print('A is 20')"
   ]
  },
  {
   "cell_type": "code",
   "execution_count": 27,
   "id": "5d4d0438",
   "metadata": {},
   "outputs": [
    {
     "ename": "IndentationError",
     "evalue": "unindent does not match any outer indentation level (<tokenize>, line 4)",
     "output_type": "error",
     "traceback": [
      "\u001b[1;36m  File \u001b[1;32m\"<tokenize>\"\u001b[1;36m, line \u001b[1;32m4\u001b[0m\n\u001b[1;33m    print('A is 20')\u001b[0m\n\u001b[1;37m    ^\u001b[0m\n\u001b[1;31mIndentationError\u001b[0m\u001b[1;31m:\u001b[0m unindent does not match any outer indentation level\n"
     ]
    }
   ],
   "source": [
    "a = 10\n",
    "if a>=10:\n",
    "    print('A is 10')\n",
    "  print('A is 20')"
   ]
  }
 ],
 "metadata": {
  "kernelspec": {
   "display_name": "Python 3",
   "language": "python",
   "name": "python3"
  },
  "language_info": {
   "codemirror_mode": {
    "name": "ipython",
    "version": 3
   },
   "file_extension": ".py",
   "mimetype": "text/x-python",
   "name": "python",
   "nbconvert_exporter": "python",
   "pygments_lexer": "ipython3",
   "version": "3.8.8"
  }
 },
 "nbformat": 4,
 "nbformat_minor": 5
}
