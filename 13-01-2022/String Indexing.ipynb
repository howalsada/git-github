{
 "cells": [
  {
   "cell_type": "code",
   "execution_count": 1,
   "id": "d8c9c11b",
   "metadata": {},
   "outputs": [
    {
     "data": {
      "text/plain": [
       "10"
      ]
     },
     "execution_count": 1,
     "metadata": {},
     "output_type": "execute_result"
    }
   ],
   "source": [
    "str1 = 'City pride'\n",
    "len(str1)"
   ]
  },
  {
   "cell_type": "code",
   "execution_count": 3,
   "id": "27d13313",
   "metadata": {},
   "outputs": [
    {
     "data": {
      "text/plain": [
       "6"
      ]
     },
     "execution_count": 3,
     "metadata": {},
     "output_type": "execute_result"
    }
   ],
   "source": [
    "str2 = 'python'\n",
    "len(str2)"
   ]
  },
  {
   "cell_type": "markdown",
   "id": "b8da3c76",
   "metadata": {},
   "source": [
    "### Indexing "
   ]
  },
  {
   "cell_type": "raw",
   "id": "f487a610",
   "metadata": {},
   "source": [
    "1. Positive index\n",
    "2. Negative Index "
   ]
  },
  {
   "cell_type": "code",
   "execution_count": null,
   "id": "541ea573",
   "metadata": {},
   "outputs": [],
   "source": [
    "index --position no provided to every character of a string\n",
    "Positive inde ---->It starts with 0 to len-1\n",
    "Negative Index---> it starts with -(len) to -1\n"
   ]
  },
  {
   "cell_type": "code",
   "execution_count": null,
   "id": "0e76fae2",
   "metadata": {},
   "outputs": [],
   "source": [
    "P y t h o n\n",
    "0 1 2 3 4 5"
   ]
  },
  {
   "cell_type": "markdown",
   "id": "62619d20",
   "metadata": {},
   "source": [
    "How to access particular character or substring----> string slicing"
   ]
  },
  {
   "cell_type": "code",
   "execution_count": 8,
   "id": "e1e17451",
   "metadata": {},
   "outputs": [
    {
     "ename": "IndexError",
     "evalue": "string index out of range",
     "output_type": "error",
     "traceback": [
      "\u001b[1;31m---------------------------------------------------------------------------\u001b[0m",
      "\u001b[1;31mIndexError\u001b[0m                                Traceback (most recent call last)",
      "\u001b[1;32m<ipython-input-8-9a69d7047a88>\u001b[0m in \u001b[0;36m<module>\u001b[1;34m\u001b[0m\n\u001b[0;32m      4\u001b[0m \u001b[0mstr1\u001b[0m\u001b[1;33m[\u001b[0m\u001b[1;36m4\u001b[0m\u001b[1;33m]\u001b[0m\u001b[1;33m\u001b[0m\u001b[1;33m\u001b[0m\u001b[0m\n\u001b[0;32m      5\u001b[0m \u001b[0mstr1\u001b[0m\u001b[1;33m[\u001b[0m\u001b[1;36m5\u001b[0m\u001b[1;33m]\u001b[0m\u001b[1;33m\u001b[0m\u001b[1;33m\u001b[0m\u001b[0m\n\u001b[1;32m----> 6\u001b[1;33m \u001b[0mstr1\u001b[0m\u001b[1;33m[\u001b[0m\u001b[1;36m6\u001b[0m\u001b[1;33m]\u001b[0m\u001b[1;33m\u001b[0m\u001b[1;33m\u001b[0m\u001b[0m\n\u001b[0m",
      "\u001b[1;31mIndexError\u001b[0m: string index out of range"
     ]
    }
   ],
   "source": [
    "str1 = 'Python'\n",
    "str1[0]\n",
    "str1[2]\n",
    "str1[4]\n",
    "str1[5]\n",
    "str1[6]"
   ]
  },
  {
   "cell_type": "code",
   "execution_count": 9,
   "id": "7e31240e",
   "metadata": {},
   "outputs": [
    {
     "data": {
      "text/plain": [
       "' '"
      ]
     },
     "execution_count": 9,
     "metadata": {},
     "output_type": "execute_result"
    }
   ],
   "source": [
    "str1 = 'Python ' # len-----\n",
    "str1[0]\n",
    "str1[2]\n",
    "str1[4]\n",
    "str1[5]\n",
    "str1[6]"
   ]
  },
  {
   "cell_type": "markdown",
   "id": "f4988ee9",
   "metadata": {},
   "source": [
    "### Negative Indexing "
   ]
  },
  {
   "cell_type": "raw",
   "id": "5bce852e",
   "metadata": {},
   "source": [
    "P   y  t  h  o   n\n",
    "-6 -5 -4 -3 -2  -1\n",
    "\n",
    "P y t h o n\n",
    "0 1 2 3 4 5"
   ]
  },
  {
   "cell_type": "code",
   "execution_count": 14,
   "id": "6ea88706",
   "metadata": {},
   "outputs": [
    {
     "data": {
      "text/plain": [
       "'n'"
      ]
     },
     "execution_count": 14,
     "metadata": {},
     "output_type": "execute_result"
    }
   ],
   "source": [
    "str1 = 'Python'\n",
    "str1[-6]\n",
    "str1[-3]\n",
    "str1[-2]\n",
    "str1[-1] #\n",
    "str1[5]"
   ]
  },
  {
   "cell_type": "markdown",
   "id": "5e16d66d",
   "metadata": {},
   "source": [
    "### string slicing "
   ]
  },
  {
   "cell_type": "raw",
   "id": "1c0c40f1",
   "metadata": {},
   "source": [
    "string_object[start_index(included):end_index(excluded):step_size] ----> returns substring\n",
    "By default start index is 0 \n",
    "By default end index is len-1\n",
    "Step size is 1"
   ]
  },
  {
   "cell_type": "code",
   "execution_count": 15,
   "id": "2ba94ddb",
   "metadata": {},
   "outputs": [
    {
     "data": {
      "text/plain": [
       "'We are learning python and Data Science Programming'"
      ]
     },
     "execution_count": 15,
     "metadata": {},
     "output_type": "execute_result"
    }
   ],
   "source": [
    "str1 = 'We are learning python and Data Science Programming'\n",
    "\n",
    "str1[:]"
   ]
  },
  {
   "cell_type": "code",
   "execution_count": 16,
   "id": "e249d9b0",
   "metadata": {},
   "outputs": [
    {
     "data": {
      "text/plain": [
       "51"
      ]
     },
     "execution_count": 16,
     "metadata": {},
     "output_type": "execute_result"
    }
   ],
   "source": [
    "len(str1)"
   ]
  },
  {
   "cell_type": "code",
   "execution_count": 18,
   "id": "5d203878",
   "metadata": {},
   "outputs": [
    {
     "data": {
      "text/plain": [
       "'We are learning python and Data Science Programming'"
      ]
     },
     "execution_count": 18,
     "metadata": {},
     "output_type": "execute_result"
    }
   ],
   "source": [
    "str1[0:51] # similar to str1[:]"
   ]
  },
  {
   "cell_type": "code",
   "execution_count": 19,
   "id": "e25de307",
   "metadata": {},
   "outputs": [
    {
     "data": {
      "text/plain": [
       "'We a'"
      ]
     },
     "execution_count": 19,
     "metadata": {},
     "output_type": "execute_result"
    }
   ],
   "source": [
    "str1[0:4]  # 0 1 2 3"
   ]
  },
  {
   "cell_type": "code",
   "execution_count": 20,
   "id": "8f20d192",
   "metadata": {},
   "outputs": [
    {
     "data": {
      "text/plain": [
       "'learning'"
      ]
     },
     "execution_count": 20,
     "metadata": {},
     "output_type": "execute_result"
    }
   ],
   "source": [
    "str1[7:15] # len 8"
   ]
  },
  {
   "cell_type": "code",
   "execution_count": 22,
   "id": "e29794f2",
   "metadata": {},
   "outputs": [
    {
     "data": {
      "text/plain": [
       "'python '"
      ]
     },
     "execution_count": 22,
     "metadata": {},
     "output_type": "execute_result"
    }
   ],
   "source": [
    "str1 = 'We are learning python and Data Science Programming'\n",
    "str1[16:23] # len 6 char"
   ]
  },
  {
   "cell_type": "code",
   "execution_count": 27,
   "id": "19da784a",
   "metadata": {},
   "outputs": [
    {
     "data": {
      "text/plain": [
       "'Data Science Programming'"
      ]
     },
     "execution_count": 27,
     "metadata": {},
     "output_type": "execute_result"
    }
   ],
   "source": [
    "str1[4:]\n",
    "str1[7:]\n",
    "str1[16:]\n",
    "str1[27:]"
   ]
  },
  {
   "cell_type": "code",
   "execution_count": 28,
   "id": "c97957b5",
   "metadata": {},
   "outputs": [
    {
     "data": {
      "text/plain": [
       "'earning'"
      ]
     },
     "execution_count": 28,
     "metadata": {},
     "output_type": "execute_result"
    }
   ],
   "source": [
    "str1[8:15]"
   ]
  },
  {
   "cell_type": "code",
   "execution_count": 29,
   "id": "d2684068",
   "metadata": {},
   "outputs": [
    {
     "name": "stdout",
     "output_type": "stream",
     "text": [
      "earning\n"
     ]
    }
   ],
   "source": [
    "s = str1[8:15]\n",
    "print(s)"
   ]
  },
  {
   "cell_type": "code",
   "execution_count": 33,
   "id": "1853ea36",
   "metadata": {},
   "outputs": [
    {
     "data": {
      "text/plain": [
       "'We are learning python and Data Science Programming'"
      ]
     },
     "execution_count": 33,
     "metadata": {},
     "output_type": "execute_result"
    }
   ],
   "source": [
    "str1 = 'We are learning python and Data Science Programming'\n",
    "str1[::1]"
   ]
  },
  {
   "cell_type": "code",
   "execution_count": 31,
   "id": "03cade07",
   "metadata": {},
   "outputs": [
    {
     "data": {
      "text/plain": [
       "'W r erigpto n aaSinePormig'"
      ]
     },
     "execution_count": 31,
     "metadata": {},
     "output_type": "execute_result"
    }
   ],
   "source": [
    "str1[::2]"
   ]
  },
  {
   "cell_type": "code",
   "execution_count": 34,
   "id": "050a9aff",
   "metadata": {},
   "outputs": [
    {
     "data": {
      "text/plain": [
       "'Wa ai tnnDacn oai'"
      ]
     },
     "execution_count": 34,
     "metadata": {},
     "output_type": "execute_result"
    }
   ],
   "source": [
    "str1[::3] #We are learning python and Data Science Programming"
   ]
  },
  {
   "cell_type": "code",
   "execution_count": 37,
   "id": "7468e4b5",
   "metadata": {},
   "outputs": [
    {
     "data": {
      "text/plain": [
       "'erig'"
      ]
     },
     "execution_count": 37,
     "metadata": {},
     "output_type": "execute_result"
    }
   ],
   "source": [
    "s = str1[8:15:2]  #erig\n",
    "s"
   ]
  },
  {
   "cell_type": "code",
   "execution_count": 39,
   "id": "de71421a",
   "metadata": {},
   "outputs": [
    {
     "data": {
      "text/plain": [
       "'Dt cec rgamn'"
      ]
     },
     "execution_count": 39,
     "metadata": {},
     "output_type": "execute_result"
    }
   ],
   "source": [
    "str1[27::2]"
   ]
  },
  {
   "cell_type": "markdown",
   "id": "24bbec47",
   "metadata": {},
   "source": [
    "### String Slicing with Negative Index "
   ]
  },
  {
   "cell_type": "raw",
   "id": "815e9e90",
   "metadata": {},
   "source": [
    " P    y  t  h  o   n\n",
    "-6   -5 -4 -3 -2  -1"
   ]
  },
  {
   "cell_type": "code",
   "execution_count": 43,
   "id": "fa650c8e",
   "metadata": {},
   "outputs": [
    {
     "data": {
      "text/plain": [
       "'Python'"
      ]
     },
     "execution_count": 43,
     "metadata": {},
     "output_type": "execute_result"
    }
   ],
   "source": [
    "str1 = 'Python'\n",
    "str1[:]"
   ]
  },
  {
   "cell_type": "code",
   "execution_count": 47,
   "id": "ff4ffd09",
   "metadata": {},
   "outputs": [
    {
     "data": {
      "text/plain": [
       "'P'"
      ]
     },
     "execution_count": 47,
     "metadata": {},
     "output_type": "execute_result"
    }
   ],
   "source": [
    "str1[-6]"
   ]
  },
  {
   "cell_type": "code",
   "execution_count": 48,
   "id": "6c546974",
   "metadata": {},
   "outputs": [
    {
     "data": {
      "text/plain": [
       "'Python'"
      ]
     },
     "execution_count": 48,
     "metadata": {},
     "output_type": "execute_result"
    }
   ],
   "source": [
    "str1[-6:]"
   ]
  },
  {
   "cell_type": "code",
   "execution_count": 46,
   "id": "d5cb0ce9",
   "metadata": {},
   "outputs": [
    {
     "data": {
      "text/plain": [
       "'Py'"
      ]
     },
     "execution_count": 46,
     "metadata": {},
     "output_type": "execute_result"
    }
   ],
   "source": [
    "str1[-6:-4]"
   ]
  },
  {
   "cell_type": "code",
   "execution_count": 49,
   "id": "5d8de1eb",
   "metadata": {},
   "outputs": [
    {
     "data": {
      "text/plain": [
       "'Programming'"
      ]
     },
     "execution_count": 49,
     "metadata": {},
     "output_type": "execute_result"
    }
   ],
   "source": [
    "str1 = 'We are learning python and Data Science Programming'\n",
    "str1[-11:] # last 11 charachters"
   ]
  },
  {
   "cell_type": "code",
   "execution_count": 51,
   "id": "18329546",
   "metadata": {},
   "outputs": [
    {
     "data": {
      "text/plain": [
       "'We are learning python and Data Science Progra'"
      ]
     },
     "execution_count": 51,
     "metadata": {},
     "output_type": "execute_result"
    }
   ],
   "source": [
    "str1[-12:] # returns last 12 characters\n",
    "str1[:-5] #skips last 5 charachters\n"
   ]
  },
  {
   "cell_type": "code",
   "execution_count": 53,
   "id": "19732e14",
   "metadata": {},
   "outputs": [
    {
     "data": {
      "text/plain": [
       "'nce P'"
      ]
     },
     "execution_count": 53,
     "metadata": {},
     "output_type": "execute_result"
    }
   ],
   "source": [
    "str1[-15:-10]"
   ]
  },
  {
   "cell_type": "markdown",
   "id": "81763900",
   "metadata": {},
   "source": [
    "### Reverse String"
   ]
  },
  {
   "cell_type": "code",
   "execution_count": 55,
   "id": "d71ab118",
   "metadata": {},
   "outputs": [
    {
     "data": {
      "text/plain": [
       "'We are learning python and Data Science Programming'"
      ]
     },
     "execution_count": 55,
     "metadata": {},
     "output_type": "execute_result"
    }
   ],
   "source": [
    "str1"
   ]
  },
  {
   "cell_type": "code",
   "execution_count": 54,
   "id": "44cd2f26",
   "metadata": {},
   "outputs": [
    {
     "data": {
      "text/plain": [
       "'gnimmargorP ecneicS ataD dna nohtyp gninrael era eW'"
      ]
     },
     "execution_count": 54,
     "metadata": {},
     "output_type": "execute_result"
    }
   ],
   "source": [
    "str1[::-1]"
   ]
  },
  {
   "cell_type": "code",
   "execution_count": 58,
   "id": "0a4dfc5d",
   "metadata": {},
   "outputs": [
    {
     "data": {
      "text/plain": [
       "' r '"
      ]
     },
     "execution_count": 58,
     "metadata": {},
     "output_type": "execute_result"
    }
   ],
   "source": [
    "str1[2:8:2] # when to use negative and positive  step size\n",
    "            # left to right use positve step size\n",
    "            # right to left use negative step size"
   ]
  },
  {
   "cell_type": "raw",
   "id": "18234aec",
   "metadata": {},
   "source": [
    "when to use negative and positive  step size\n",
    "left to right use positve step size\n",
    "right to left use negative step size"
   ]
  },
  {
   "cell_type": "code",
   "execution_count": 60,
   "id": "65d68e04",
   "metadata": {},
   "outputs": [
    {
     "data": {
      "text/plain": [
       "'gmrre'"
      ]
     },
     "execution_count": 60,
     "metadata": {},
     "output_type": "execute_result"
    }
   ],
   "source": [
    "str1[-1:-15:-3]"
   ]
  }
 ],
 "metadata": {
  "kernelspec": {
   "display_name": "Python 3",
   "language": "python",
   "name": "python3"
  },
  "language_info": {
   "codemirror_mode": {
    "name": "ipython",
    "version": 3
   },
   "file_extension": ".py",
   "mimetype": "text/x-python",
   "name": "python",
   "nbconvert_exporter": "python",
   "pygments_lexer": "ipython3",
   "version": "3.8.8"
  }
 },
 "nbformat": 4,
 "nbformat_minor": 5
}
