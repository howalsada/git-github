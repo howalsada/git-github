{
 "cells": [
  {
   "cell_type": "code",
   "execution_count": null,
   "id": "fc67111a",
   "metadata": {},
   "outputs": [],
   "source": [
    "String : \n",
    "    It is a collection of characters surrounded by single or double or triple quotes.\n",
    "--immutable data type e.g string, tuple\n",
    "    immutable --once we create immutable object it can not be changed after creation \n",
    "---mutable list, dict, set\n",
    "    it can be changed \n",
    "\n",
    "immutable DT:\n",
    "        str \n",
    "        int\n",
    "        float\n",
    "        tuple\n",
    "        bool\n",
    "mutable DT:\n",
    "        list \n",
    "        dict \n",
    "        set"
   ]
  },
  {
   "cell_type": "code",
   "execution_count": 2,
   "id": "bda281fe",
   "metadata": {},
   "outputs": [
    {
     "data": {
      "text/plain": [
       "'Pyhton programming'"
      ]
     },
     "execution_count": 2,
     "metadata": {},
     "output_type": "execute_result"
    }
   ],
   "source": [
    "str1 = 'Pyhton programming'\n",
    "str1"
   ]
  },
  {
   "cell_type": "code",
   "execution_count": 3,
   "id": "fb2354f1",
   "metadata": {},
   "outputs": [
    {
     "data": {
      "text/plain": [
       "'Python Programming'"
      ]
     },
     "execution_count": 3,
     "metadata": {},
     "output_type": "execute_result"
    }
   ],
   "source": [
    "str1 = \"Python Programming\"\n",
    "str1"
   ]
  },
  {
   "cell_type": "code",
   "execution_count": 4,
   "id": "ac52165a",
   "metadata": {},
   "outputs": [
    {
     "data": {
      "text/plain": [
       "'Pyhton Programming\\nand Data Science'"
      ]
     },
     "execution_count": 4,
     "metadata": {},
     "output_type": "execute_result"
    }
   ],
   "source": [
    "str1 = '''Pyhton Programming\n",
    "and Data Science'''\n",
    "str1"
   ]
  },
  {
   "cell_type": "code",
   "execution_count": 5,
   "id": "13f889d7",
   "metadata": {},
   "outputs": [
    {
     "name": "stdout",
     "output_type": "stream",
     "text": [
      "Pyhton Programming\n",
      "and Data Science\n"
     ]
    }
   ],
   "source": [
    "print(str1)"
   ]
  },
  {
   "cell_type": "markdown",
   "id": "3f0e46f8",
   "metadata": {},
   "source": [
    "## Escape Characters "
   ]
  },
  {
   "cell_type": "raw",
   "id": "40902546",
   "metadata": {},
   "source": [
    "\\----> escape character"
   ]
  },
  {
   "cell_type": "code",
   "execution_count": 6,
   "id": "aa675689",
   "metadata": {},
   "outputs": [
    {
     "data": {
      "text/plain": [
       "\"what's your name\""
      ]
     },
     "execution_count": 6,
     "metadata": {},
     "output_type": "execute_result"
    }
   ],
   "source": [
    "s = 'what\\'s your name'\n",
    "s"
   ]
  },
  {
   "cell_type": "code",
   "execution_count": 7,
   "id": "e97dfd99",
   "metadata": {},
   "outputs": [
    {
     "data": {
      "text/plain": [
       "'what\\\\ is your name'"
      ]
     },
     "execution_count": 7,
     "metadata": {},
     "output_type": "execute_result"
    }
   ],
   "source": [
    "s = 'what\\\\ is your name'\n",
    "s"
   ]
  },
  {
   "cell_type": "code",
   "execution_count": 9,
   "id": "82fc378b",
   "metadata": {},
   "outputs": [
    {
     "data": {
      "text/plain": [
       "'we are learning python and Data science\"s programing'"
      ]
     },
     "execution_count": 9,
     "metadata": {},
     "output_type": "execute_result"
    }
   ],
   "source": [
    "s = \"we are learning python and Data science\\\"s programing\"\n",
    "s"
   ]
  },
  {
   "cell_type": "markdown",
   "id": "3b4080c7",
   "metadata": {},
   "source": [
    "### 1. \\n"
   ]
  },
  {
   "cell_type": "code",
   "execution_count": 12,
   "id": "26eefe6b",
   "metadata": {},
   "outputs": [
    {
     "data": {
      "text/plain": [
       "'We are learning Machine Learning \\nData Science programming'"
      ]
     },
     "execution_count": 12,
     "metadata": {},
     "output_type": "execute_result"
    }
   ],
   "source": [
    "str1 = 'We are learning Machine Learning \\nData Science programming'\n",
    "str1"
   ]
  },
  {
   "cell_type": "code",
   "execution_count": 13,
   "id": "1f877d65",
   "metadata": {
    "scrolled": true
   },
   "outputs": [
    {
     "name": "stdout",
     "output_type": "stream",
     "text": [
      "We are learning Machine Learning \n",
      "Data Science programming\n"
     ]
    }
   ],
   "source": [
    "print(str1)"
   ]
  },
  {
   "cell_type": "markdown",
   "id": "9fc3ca54",
   "metadata": {},
   "source": [
    "### 2. \\t"
   ]
  },
  {
   "cell_type": "code",
   "execution_count": 14,
   "id": "165f1225",
   "metadata": {},
   "outputs": [
    {
     "data": {
      "text/plain": [
       "'We are learning Machine Learning \\tData Science programming'"
      ]
     },
     "execution_count": 14,
     "metadata": {},
     "output_type": "execute_result"
    }
   ],
   "source": [
    "str1 = 'We are learning Machine Learning \\tData Science programming'\n",
    "str1"
   ]
  },
  {
   "cell_type": "code",
   "execution_count": 15,
   "id": "5a0779a3",
   "metadata": {},
   "outputs": [
    {
     "name": "stdout",
     "output_type": "stream",
     "text": [
      "We are learning Machine Learning \tData Science programming\n"
     ]
    }
   ],
   "source": [
    "print(str1)"
   ]
  },
  {
   "cell_type": "markdown",
   "id": "82296c7f",
   "metadata": {},
   "source": [
    "### 3. \\r Cariage return"
   ]
  },
  {
   "cell_type": "code",
   "execution_count": 17,
   "id": "f21a416d",
   "metadata": {},
   "outputs": [
    {
     "name": "stdout",
     "output_type": "stream",
     "text": [
      "We are learning Machine Learning \r",
      "programming\n"
     ]
    }
   ],
   "source": [
    "str1 = 'We are learning Machine Learning \\rprogramming'\n",
    "print(str1)"
   ]
  },
  {
   "cell_type": "code",
   "execution_count": 18,
   "id": "00d75368",
   "metadata": {},
   "outputs": [
    {
     "name": "stdout",
     "output_type": "stream",
     "text": [
      "we are learning \r",
      "python\n"
     ]
    }
   ],
   "source": [
    "str2 = 'we are learning \\rpython'\n",
    "print(str2)"
   ]
  },
  {
   "cell_type": "code",
   "execution_count": null,
   "id": "25413742",
   "metadata": {},
   "outputs": [],
   "source": []
  }
 ],
 "metadata": {
  "kernelspec": {
   "display_name": "Python 3",
   "language": "python",
   "name": "python3"
  },
  "language_info": {
   "codemirror_mode": {
    "name": "ipython",
    "version": 3
   },
   "file_extension": ".py",
   "mimetype": "text/x-python",
   "name": "python",
   "nbconvert_exporter": "python",
   "pygments_lexer": "ipython3",
   "version": "3.8.8"
  }
 },
 "nbformat": 4,
 "nbformat_minor": 5
}
